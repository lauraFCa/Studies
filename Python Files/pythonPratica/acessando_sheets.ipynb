{
  "nbformat": 4,
  "nbformat_minor": 0,
  "metadata": {
    "colab": {
      "name": "acessando_sheets",
      "provenance": [],
      "collapsed_sections": []
    },
    "kernelspec": {
      "name": "python3",
      "display_name": "Python 3"
    }
  },
  "cells": [
    {
      "cell_type": "code",
      "metadata": {
        "id": "qCrp_qVQ9siz"
      },
      "source": [
        "# !pip install --upgrade gspread"
      ],
      "execution_count": null,
      "outputs": []
    },
    {
      "cell_type": "markdown",
      "metadata": {
        "id": "6TevrA9YDdjt"
      },
      "source": [
        "Pegar exemplo do Colab: External data > Google Sheets > autenticar usuario"
      ]
    },
    {
      "cell_type": "code",
      "metadata": {
        "id": "63djsWmb-Hlx"
      },
      "source": [
        "# autenticação para acessar o sheets\r\n",
        "from google.colab import auth\r\n",
        "auth.authenticate_user()\r\n",
        "\r\n",
        "import gspread\r\n",
        "from oauth2client.client import GoogleCredentials\r\n",
        "\r\n",
        "gc = gspread.authorize(GoogleCredentials.get_application_default())"
      ],
      "execution_count": 2,
      "outputs": []
    },
    {
      "cell_type": "code",
      "metadata": {
        "id": "CH7qHKox-vJQ"
      },
      "source": [
        "spreadsheet = gc.open('Grade_Software')"
      ],
      "execution_count": 3,
      "outputs": []
    },
    {
      "cell_type": "code",
      "metadata": {
        "id": "8soy6RWZC-fQ"
      },
      "source": [
        "page = spreadsheet.sheet1 # primeira aba da planilha"
      ],
      "execution_count": 4,
      "outputs": []
    },
    {
      "cell_type": "code",
      "metadata": {
        "colab": {
          "base_uri": "https://localhost:8080/"
        },
        "id": "27u7MrHmDC5N",
        "outputId": "b0345adf-0a91-4d8c-a12c-9c17c094fae4"
      },
      "source": [
        "page.row_values(1) # valores primeira linha\r\n",
        "page.col_values(1) # valores primeira coluna"
      ],
      "execution_count": 5,
      "outputs": [
        {
          "output_type": "execute_result",
          "data": {
            "text/plain": [
              "['Período', 'Engenharia de Software', 'CR']"
            ]
          },
          "metadata": {
            "tags": []
          },
          "execution_count": 5
        }
      ]
    },
    {
      "cell_type": "code",
      "metadata": {
        "colab": {
          "base_uri": "https://localhost:8080/",
          "height": 35
        },
        "id": "vf6Ifa4IDGCd",
        "outputId": "db5f3805-2b84-4571-a4ba-c79ad5a4df39"
      },
      "source": [
        "page.acell('B8').value # valor de uma célula"
      ],
      "execution_count": 9,
      "outputs": [
        {
          "output_type": "execute_result",
          "data": {
            "application/vnd.google.colaboratory.intrinsic+json": {
              "type": "string"
            },
            "text/plain": [
              "'Criação de Sites'"
            ]
          },
          "metadata": {
            "tags": []
          },
          "execution_count": 9
        }
      ]
    },
    {
      "cell_type": "code",
      "metadata": {
        "colab": {
          "base_uri": "https://localhost:8080/",
          "height": 35
        },
        "id": "x3bI8rHaDP_d",
        "outputId": "086206f9-1583-4d20-e9ef-eccbb95c361c"
      },
      "source": [
        "page.cell(5,2).value # valor linha 5 coluna 2"
      ],
      "execution_count": 11,
      "outputs": [
        {
          "output_type": "execute_result",
          "data": {
            "application/vnd.google.colaboratory.intrinsic+json": {
              "type": "string"
            },
            "text/plain": [
              "'Algoritmos'"
            ]
          },
          "metadata": {
            "tags": []
          },
          "execution_count": 11
        }
      ]
    },
    {
      "cell_type": "code",
      "metadata": {
        "colab": {
          "base_uri": "https://localhost:8080/"
        },
        "id": "2Ue0OPc3DsVu",
        "outputId": "561be9f1-1e7a-4fd8-c7c8-9db0290b5c7b"
      },
      "source": [
        "page.update('G1', 'ola mundo') # escreve 'ola mundo' na celula G1\r\n",
        "page.acell('G1').value\r\n",
        "page.update('G1', '') # apaga 'ola mundo' na celula G1"
      ],
      "execution_count": 16,
      "outputs": [
        {
          "output_type": "execute_result",
          "data": {
            "text/plain": [
              "{'spreadsheetId': '1hqjpib4_Z-pcXsWCA9hRnAKTMQWGQmXpv2V-AHromkc',\n",
              " 'updatedCells': 1,\n",
              " 'updatedColumns': 1,\n",
              " 'updatedRange': 'GradeNova!G1',\n",
              " 'updatedRows': 1}"
            ]
          },
          "metadata": {
            "tags": []
          },
          "execution_count": 16
        }
      ]
    },
    {
      "cell_type": "code",
      "metadata": {
        "id": "BV0-bjciDlbN"
      },
      "source": [
        "# carregar os dados do GSHEET como dataframe do pandas\r\n",
        "import pandas as pd"
      ],
      "execution_count": 18,
      "outputs": []
    },
    {
      "cell_type": "code",
      "metadata": {
        "id": "eULaGZVhENeO"
      },
      "source": [
        "grade = pd.DataFrame(page.get_all_records())"
      ],
      "execution_count": 19,
      "outputs": []
    },
    {
      "cell_type": "code",
      "metadata": {
        "colab": {
          "base_uri": "https://localhost:8080/",
          "height": 204
        },
        "id": "3Dyo6fvyES_c",
        "outputId": "0b7c7626-cb26-4a70-904b-97d5349fec72"
      },
      "source": [
        "grade.head()"
      ],
      "execution_count": 20,
      "outputs": [
        {
          "output_type": "execute_result",
          "data": {
            "text/html": [
              "<div>\n",
              "<style scoped>\n",
              "    .dataframe tbody tr th:only-of-type {\n",
              "        vertical-align: middle;\n",
              "    }\n",
              "\n",
              "    .dataframe tbody tr th {\n",
              "        vertical-align: top;\n",
              "    }\n",
              "\n",
              "    .dataframe thead th {\n",
              "        text-align: right;\n",
              "    }\n",
              "</style>\n",
              "<table border=\"1\" class=\"dataframe\">\n",
              "  <thead>\n",
              "    <tr style=\"text-align: right;\">\n",
              "      <th></th>\n",
              "      <th>Período</th>\n",
              "      <th>Engenharia de Software</th>\n",
              "      <th>CR</th>\n",
              "      <th></th>\n",
              "    </tr>\n",
              "  </thead>\n",
              "  <tbody>\n",
              "    <tr>\n",
              "      <th>0</th>\n",
              "      <td>1</td>\n",
              "      <td>Criatividade e Inovação</td>\n",
              "      <td>2</td>\n",
              "      <td></td>\n",
              "    </tr>\n",
              "    <tr>\n",
              "      <th>1</th>\n",
              "      <td>1</td>\n",
              "      <td>Fundamentos de Matemática</td>\n",
              "      <td>2</td>\n",
              "      <td></td>\n",
              "    </tr>\n",
              "    <tr>\n",
              "      <th>2</th>\n",
              "      <td>1</td>\n",
              "      <td>Cálculo Diferencial e Integral</td>\n",
              "      <td>2</td>\n",
              "      <td></td>\n",
              "    </tr>\n",
              "    <tr>\n",
              "      <th>3</th>\n",
              "      <td>1</td>\n",
              "      <td>Algoritmos</td>\n",
              "      <td>4</td>\n",
              "      <td></td>\n",
              "    </tr>\n",
              "    <tr>\n",
              "      <th>4</th>\n",
              "      <td>1</td>\n",
              "      <td>Fundamentos da Administração</td>\n",
              "      <td>2</td>\n",
              "      <td></td>\n",
              "    </tr>\n",
              "  </tbody>\n",
              "</table>\n",
              "</div>"
            ],
            "text/plain": [
              "  Período          Engenharia de Software CR  \n",
              "0       1         Criatividade e Inovação  2  \n",
              "1       1       Fundamentos de Matemática  2  \n",
              "2       1  Cálculo Diferencial e Integral  2  \n",
              "3       1                      Algoritmos  4  \n",
              "4       1    Fundamentos da Administração  2  "
            ]
          },
          "metadata": {
            "tags": []
          },
          "execution_count": 20
        }
      ]
    },
    {
      "cell_type": "code",
      "metadata": {
        "colab": {
          "base_uri": "https://localhost:8080/"
        },
        "id": "DWG912zrEUCd",
        "outputId": "22007f94-2501-44bc-86c6-dd73313f587e"
      },
      "source": [
        "# selecionar as disciplinas do período 7\r\n",
        "x7 = grade.query('Período==7')\r\n",
        "print(x7)\r\n",
        "print('\\n -----Informações----- \\n')\r\n",
        "print(x7.info()) # informações da query"
      ],
      "execution_count": 43,
      "outputs": [
        {
          "output_type": "stream",
          "text": [
            "   Período                      Engenharia de Software CR    \n",
            "57       7  Inteligência Artificial e Machine Learning  4    \n",
            "58       7                Desenvolvimento Móvel Nativo  4    \n",
            "59       7                           Teste de Software  2    \n",
            "60       7           Manutenção e Evolução de Software  2    \n",
            "61       7      Governança de Tecnologia da Informação  2    \n",
            "62       7                                 Eletiva III  2    \n",
            "63       7                      Projeto Integrador VII  2    \n",
            "64       7                 Práticas Extensionistas VII  2  20\n",
            "\n",
            " -----Informações----- \n",
            "\n",
            "<class 'pandas.core.frame.DataFrame'>\n",
            "Int64Index: 8 entries, 57 to 64\n",
            "Data columns (total 4 columns):\n",
            " #   Column                  Non-Null Count  Dtype \n",
            "---  ------                  --------------  ----- \n",
            " 0   Período                 8 non-null      object\n",
            " 1   Engenharia de Software  8 non-null      object\n",
            " 2   CR                      8 non-null      object\n",
            " 3                           8 non-null      object\n",
            "dtypes: object(4)\n",
            "memory usage: 320.0+ bytes\n",
            "None\n"
          ],
          "name": "stdout"
        }
      ]
    },
    {
      "cell_type": "code",
      "metadata": {
        "id": "-jyYkBIyEi4t"
      },
      "source": [
        "materias7 = spreadsheet.add_worksheet('7o Periodo', rows=8, cols=4)  # criamos a aba para add os dados (esta em branco)"
      ],
      "execution_count": 42,
      "outputs": []
    },
    {
      "cell_type": "code",
      "metadata": {
        "colab": {
          "base_uri": "https://localhost:8080/"
        },
        "id": "O-eFz1M5GXMp",
        "outputId": "dc4dc921-e74f-4463-80bb-5f7f14683893"
      },
      "source": [
        "x7.columns.values.tolist()  # titulos das colunas\r\n",
        "x7.values.tolist()  # cada linha vira uma lista (lista de listas)"
      ],
      "execution_count": 44,
      "outputs": [
        {
          "output_type": "execute_result",
          "data": {
            "text/plain": [
              "['Período', 'Engenharia de Software', 'CR', '']"
            ]
          },
          "metadata": {
            "tags": []
          },
          "execution_count": 44
        }
      ]
    },
    {
      "cell_type": "code",
      "metadata": {
        "colab": {
          "base_uri": "https://localhost:8080/"
        },
        "id": "AjJf_8XiFbjN",
        "outputId": "14a347c8-24a3-4f37-8883-a29527012e74"
      },
      "source": [
        "materias7.update([x7.columns.values.tolist()] + x7.values.tolist())"
      ],
      "execution_count": 45,
      "outputs": [
        {
          "output_type": "execute_result",
          "data": {
            "text/plain": [
              "{'spreadsheetId': '1hqjpib4_Z-pcXsWCA9hRnAKTMQWGQmXpv2V-AHromkc',\n",
              " 'updatedCells': 36,\n",
              " 'updatedColumns': 4,\n",
              " 'updatedRange': \"'7o Periodo'!A1:D9\",\n",
              " 'updatedRows': 9}"
            ]
          },
          "metadata": {
            "tags": []
          },
          "execution_count": 45
        }
      ]
    },
    {
      "cell_type": "code",
      "metadata": {
        "colab": {
          "base_uri": "https://localhost:8080/"
        },
        "id": "2gy1I87xGpBN",
        "outputId": "2e42bd7e-9879-4fab-ab91-010a6d1ca484"
      },
      "source": [
        "# selecionar as disciplinas do período 2 -- contem linhas ocultas\r\n",
        "x2 = grade.query('Período==2')\r\n",
        "print(x2)\r\n",
        "print('\\n -----Informações----- \\n')\r\n",
        "print(x2.info()) # informações da query"
      ],
      "execution_count": 47,
      "outputs": [
        {
          "output_type": "stream",
          "text": [
            "   Período                     Engenharia de Software CR    \n",
            "10       2                        Eletricidade Básica  2    \n",
            "11       2               Desenvolvimento de Web Sites  2    \n",
            "12       2                       Orientação a Objetos  2    \n",
            "13       2                        Análise de Sistemas  4    \n",
            "14       2                        Estruturas de Dados  4    \n",
            "15       2  Arquitetura e Organização de Computadores  2    \n",
            "16       2                      Projeto Integrador II  2    \n",
            "17       2                 Práticas Extensionistas II  2  20\n",
            "\n",
            " -----Informações----- \n",
            "\n",
            "<class 'pandas.core.frame.DataFrame'>\n",
            "Int64Index: 8 entries, 10 to 17\n",
            "Data columns (total 4 columns):\n",
            " #   Column                  Non-Null Count  Dtype \n",
            "---  ------                  --------------  ----- \n",
            " 0   Período                 8 non-null      object\n",
            " 1   Engenharia de Software  8 non-null      object\n",
            " 2   CR                      8 non-null      object\n",
            " 3                           8 non-null      object\n",
            "dtypes: object(4)\n",
            "memory usage: 320.0+ bytes\n",
            "None\n"
          ],
          "name": "stdout"
        }
      ]
    },
    {
      "cell_type": "markdown",
      "metadata": {
        "id": "w5nrhjQDHD9f"
      },
      "source": [
        "Faz a leitura de linhas e colunas ocultas!"
      ]
    },
    {
      "cell_type": "code",
      "metadata": {
        "id": "qKi98cndG8Bb"
      },
      "source": [],
      "execution_count": null,
      "outputs": []
    }
  ]
}